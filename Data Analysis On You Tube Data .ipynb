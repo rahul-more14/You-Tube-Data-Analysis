{
 "cells": [
  {
   "cell_type": "code",
   "execution_count": null,
   "id": "b6feeebd",
   "metadata": {},
   "outputs": [],
   "source": [
    "# The code begins by importing necessary libraries and loading a CSV file (UScomments.csv) containing YouTube comments data \n",
    "# into a Pandas DataFrame named comments.\n",
    "# Initial data exploration is done by checking for and dropping any null values in the DataFrame.\n",
    "import pandas as pd\n",
    "import numpy as np\n",
    "import matplotlib.pyplot as plt\n",
    "import seaborn as sns"
   ]
  },
  {
   "cell_type": "code",
   "execution_count": null,
   "id": "928bd3d4",
   "metadata": {},
   "outputs": [],
   "source": [
    "comments=pd.read_csv(r'G:\\DV Analytics\\Projects\\Udemy\\Youtube_project_shan_singh_Udemy/UScomments.csv',error_bad_lines=False)"
   ]
  },
  {
   "cell_type": "code",
   "execution_count": null,
   "id": "7f54154a",
   "metadata": {},
   "outputs": [],
   "source": [
    "comments.head()"
   ]
  },
  {
   "cell_type": "code",
   "execution_count": null,
   "id": "137183c6",
   "metadata": {},
   "outputs": [],
   "source": [
    "comments.isnull().sum()"
   ]
  },
  {
   "cell_type": "code",
   "execution_count": null,
   "id": "30e1ebc0",
   "metadata": {},
   "outputs": [],
   "source": [
    "comments.dropna(inplace=True)"
   ]
  },
  {
   "cell_type": "code",
   "execution_count": null,
   "id": "8ec3df5f",
   "metadata": {},
   "outputs": [],
   "source": [
    "comments.isnull().sum()"
   ]
  },
  {
   "cell_type": "markdown",
   "id": "9014d585",
   "metadata": {},
   "source": [
    "# Sentiment Analysis"
   ]
  },
  {
   "cell_type": "code",
   "execution_count": null,
   "id": "40254c25",
   "metadata": {},
   "outputs": [],
   "source": [
    "# Polarity value for sentiment expression lies between(-1,1) we are going to insert polarity value for comments.\n",
    "# Package we are use here its Textblob. \n",
    "# TextBlob, a Python library for processing textual data, is used for sentiment analysis. \n",
    "# The sentiment polarity of each comment in the dataset is calculated and \n",
    "# stored in a new column named 'polarity' in the DataFrame.\n",
    "\n",
    "!pip install textblob\n",
    "from textblob import TextBlob"
   ]
  },
  {
   "cell_type": "code",
   "execution_count": null,
   "id": "3ca3df7c",
   "metadata": {},
   "outputs": [],
   "source": [
    "comments.head()"
   ]
  },
  {
   "cell_type": "code",
   "execution_count": null,
   "id": "a50ae663",
   "metadata": {},
   "outputs": [],
   "source": [
    "TextBlob(\"Logan Paul it's yo big day ‼️‼️‼️\").sentiment"
   ]
  },
  {
   "cell_type": "code",
   "execution_count": null,
   "id": "2f6a20e0",
   "metadata": {},
   "outputs": [],
   "source": [
    "TextBlob(\"Logan Paul it's yo big day ‼️‼️‼️\").sentiment.polarity"
   ]
  },
  {
   "cell_type": "code",
   "execution_count": null,
   "id": "445ebe3d",
   "metadata": {},
   "outputs": [],
   "source": [
    "polarity=[]\n",
    "\n",
    "for comment in comments['comment_text']:\n",
    "    try:\n",
    "        polarity.append(TextBlob(comment).sentiment.polarity)\n",
    "    except:\n",
    "        polarity.append(0)\n",
    "    "
   ]
  },
  {
   "cell_type": "code",
   "execution_count": null,
   "id": "e9223303",
   "metadata": {},
   "outputs": [],
   "source": [
    "len(polarity)"
   ]
  },
  {
   "cell_type": "code",
   "execution_count": null,
   "id": "7ce2634d",
   "metadata": {},
   "outputs": [],
   "source": [
    "comments['polarity']=polarity"
   ]
  },
  {
   "cell_type": "code",
   "execution_count": null,
   "id": "519487b0",
   "metadata": {},
   "outputs": [],
   "source": [
    "comments.head()"
   ]
  },
  {
   "cell_type": "markdown",
   "id": "c1922483",
   "metadata": {},
   "source": [
    "# WordCloud Analysis "
   ]
  },
  {
   "cell_type": "code",
   "execution_count": null,
   "id": "a3ab1c08",
   "metadata": {},
   "outputs": [],
   "source": [
    "# here we filter out data with positive polarity\n",
    "# Positive and negative comments are filtered based on their polarity values.\n",
    "# WordClouds are generated for both positive and negative comments, \n",
    "# showcasing the most frequent words used in each sentiment category.\n",
    "filter1=comments['polarity']==1\n",
    "comments_positive=comments[filter1]\n",
    "comments_positive"
   ]
  },
  {
   "cell_type": "code",
   "execution_count": null,
   "id": "2a4746a4",
   "metadata": {},
   "outputs": [],
   "source": [
    "# here we filter out data with negative polarity\n",
    "filter2=comments['polarity']==-1\n",
    "comments_negative=comments[filter2]\n",
    "comments_negative"
   ]
  },
  {
   "cell_type": "code",
   "execution_count": null,
   "id": "89913ba6",
   "metadata": {},
   "outputs": [],
   "source": [
    "# Here we import some packges wordcloud, stopwords\n",
    "# STOPWORDS are thos words which haveno use in our analysis they are meaningless like (is,the,it,to,up...) \n",
    "# we need to exclude them\n",
    "!pip install wordcloud\n",
    "from wordcloud import WordCloud , STOPWORDS"
   ]
  },
  {
   "cell_type": "code",
   "execution_count": null,
   "id": "04707eea",
   "metadata": {},
   "outputs": [],
   "source": [
    "# This are the words under stopwords\n",
    "set(STOPWORDS)"
   ]
  },
  {
   "cell_type": "code",
   "execution_count": null,
   "id": "87b08fbd",
   "metadata": {},
   "outputs": [],
   "source": [
    "type(comments['comment_text'])"
   ]
  },
  {
   "cell_type": "code",
   "execution_count": null,
   "id": "955e537e",
   "metadata": {},
   "outputs": [],
   "source": [
    "total_comment_positive=' '.join(comments_positive['comment_text'])"
   ]
  },
  {
   "cell_type": "code",
   "execution_count": null,
   "id": "7d84a932",
   "metadata": {},
   "outputs": [],
   "source": [
    "wordcloud=WordCloud(stopwords=set(STOPWORDS)).generate(total_comment_positive)"
   ]
  },
  {
   "cell_type": "code",
   "execution_count": null,
   "id": "7fc8d83d",
   "metadata": {},
   "outputs": [],
   "source": [
    "plt.imshow(wordcloud)\n",
    "plt.axis('off')"
   ]
  },
  {
   "cell_type": "code",
   "execution_count": null,
   "id": "2f87352b",
   "metadata": {},
   "outputs": [],
   "source": [
    "### Conclusion-->> positive Users are emphasizing more on best , awesome , perfect , amazing , look , happy  etc.."
   ]
  },
  {
   "cell_type": "code",
   "execution_count": null,
   "id": "2bdf2435",
   "metadata": {},
   "outputs": [],
   "source": []
  },
  {
   "cell_type": "code",
   "execution_count": null,
   "id": "aacb2077",
   "metadata": {},
   "outputs": [],
   "source": [
    "total_comment_negative=' '.join(comments_negative['comment_text'])"
   ]
  },
  {
   "cell_type": "code",
   "execution_count": null,
   "id": "8dc79f40",
   "metadata": {},
   "outputs": [],
   "source": [
    "wordcloud2=WordCloud(stopwords=set(STOPWORDS)).generate(total_comment_negative)"
   ]
  },
  {
   "cell_type": "code",
   "execution_count": 138,
   "id": "bbd92a3e",
   "metadata": {},
   "outputs": [
    {
     "data": {
      "text/plain": [
       "(-0.5, 399.5, 199.5, -0.5)"
      ]
     },
     "execution_count": 138,
     "metadata": {},
     "output_type": "execute_result"
    },
    {
     "data": {
      "image/png": "[encoded data removed]",
      "text/plain": [
       "<Figure size 640x480 with 1 Axes>"
      ]
     },
     "metadata": {},
     "output_type": "display_data"
    }
   ],
   "source": [
    "plt.imshow(wordcloud2)\n",
    "plt.axis('off')"
   ]
  },
  {
   "cell_type": "code",
   "execution_count": null,
   "id": "b70b46db",
   "metadata": {},
   "outputs": [],
   "source": [
    "### Conclusion-->> Negative Users are emphasizing more on Terrible , worst ,horrible ,boring , disgusting etc.."
   ]
  },
  {
   "cell_type": "markdown",
   "id": "ee3ffb7a",
   "metadata": {},
   "source": [
    "# Emoji Analysis"
   ]
  },
  {
   "cell_type": "code",
   "execution_count": null,
   "id": "48902dfb",
   "metadata": {},
   "outputs": [],
   "source": [
    "# The code utilizes the emoji library to extract and analyze emojis from comments.\n",
    "\n",
    "!pip install emoji==2.2.0"
   ]
  },
  {
   "cell_type": "code",
   "execution_count": null,
   "id": "127cd58c",
   "metadata": {},
   "outputs": [],
   "source": [
    "import emoji"
   ]
  },
  {
   "cell_type": "code",
   "execution_count": null,
   "id": "e68450ca",
   "metadata": {},
   "outputs": [],
   "source": [
    "emoji.__version__"
   ]
  },
  {
   "cell_type": "code",
   "execution_count": null,
   "id": "1433387d",
   "metadata": {},
   "outputs": [],
   "source": [
    "comments['comment_text'].head(6)"
   ]
  },
  {
   "cell_type": "code",
   "execution_count": null,
   "id": "a79f623d",
   "metadata": {},
   "outputs": [],
   "source": [
    "comment='trending 😉'"
   ]
  },
  {
   "cell_type": "code",
   "execution_count": null,
   "id": "746c5b18",
   "metadata": {},
   "outputs": [],
   "source": [
    "[char for char in comment if char in emoji.EMOJI_DATA]"
   ]
  },
  {
   "cell_type": "code",
   "execution_count": null,
   "id": "683f410e",
   "metadata": {},
   "outputs": [],
   "source": [
    "all_emojis_list=[]\n",
    "\n",
    "for comment in comments['comment_text'].dropna():\n",
    "    for char in comment:\n",
    "        if char in emoji.EMOJI_DATA:\n",
    "            all_emojis_list.append(char)"
   ]
  },
  {
   "cell_type": "code",
   "execution_count": null,
   "id": "443896b2",
   "metadata": {},
   "outputs": [],
   "source": [
    "all_emojis_list[0:10]"
   ]
  },
  {
   "cell_type": "code",
   "execution_count": null,
   "id": "dc436639",
   "metadata": {},
   "outputs": [],
   "source": [
    "from collections import Counter"
   ]
  },
  {
   "cell_type": "code",
   "execution_count": null,
   "id": "8c6a4463",
   "metadata": {},
   "outputs": [],
   "source": [
    "Counter(all_emojis_list).most_common(10)"
   ]
  },
  {
   "cell_type": "code",
   "execution_count": null,
   "id": "d4c7801a",
   "metadata": {},
   "outputs": [],
   "source": [
    "# It counts the occurrences of each emoji and visualizes the top 10 most common emojis using Plotly.\n",
    "emojis=[Counter(all_emojis_list).most_common(10)[i][0] for i in range(10)]\n",
    "emojis"
   ]
  },
  {
   "cell_type": "code",
   "execution_count": null,
   "id": "5e1c92bf",
   "metadata": {},
   "outputs": [],
   "source": [
    "freqs=[Counter(all_emojis_list).most_common(10)[i][1] for i in range(10)]\n",
    "freqs"
   ]
  },
  {
   "cell_type": "code",
   "execution_count": null,
   "id": "e08cb6c3",
   "metadata": {},
   "outputs": [],
   "source": [
    "import plotly.graph_objs as go\n",
    "from plotly.offline import iplot"
   ]
  },
  {
   "cell_type": "code",
   "execution_count": null,
   "id": "67261681",
   "metadata": {},
   "outputs": [],
   "source": [
    "trace=go.Bar(x=emojis , y=freqs)"
   ]
  },
  {
   "cell_type": "code",
   "execution_count": null,
   "id": "a44742bb",
   "metadata": {},
   "outputs": [],
   "source": [
    "iplot([trace])"
   ]
  },
  {
   "cell_type": "code",
   "execution_count": null,
   "id": "d4864a13",
   "metadata": {},
   "outputs": [],
   "source": [
    "## Conclusions : Majority of the customers are happy as most of them are using emojis like: funny , love , heart , outstanding.."
   ]
  },
  {
   "cell_type": "markdown",
   "id": "ddfbb748",
   "metadata": {},
   "source": [
    "# Collect Entire Data of You tube"
   ]
  },
  {
   "cell_type": "code",
   "execution_count": null,
   "id": "21167153",
   "metadata": {},
   "outputs": [],
   "source": [
    "# The code collects additional data from multiple CSV files located in a directory and \n",
    "# concatenates them into a single DataFrame named full_df.\n",
    "\n",
    "import os"
   ]
  },
  {
   "cell_type": "code",
   "execution_count": null,
   "id": "df3916bf",
   "metadata": {},
   "outputs": [],
   "source": [
    "files=os.listdir(r'G:\\DV Analytics\\Projects\\Udemy\\Youtube_project_shan_singh_Udemy\\additional_data')"
   ]
  },
  {
   "cell_type": "code",
   "execution_count": null,
   "id": "7bb63c94",
   "metadata": {},
   "outputs": [],
   "source": [
    "files"
   ]
  },
  {
   "cell_type": "code",
   "execution_count": null,
   "id": "a09e8586",
   "metadata": {},
   "outputs": [],
   "source": [
    "files_csv=[file for file in files if '.csv' in file]"
   ]
  },
  {
   "cell_type": "code",
   "execution_count": null,
   "id": "a522e945",
   "metadata": {},
   "outputs": [],
   "source": [
    "files_csv"
   ]
  },
  {
   "cell_type": "code",
   "execution_count": null,
   "id": "0aeccbd5",
   "metadata": {},
   "outputs": [],
   "source": [
    "import warnings\n",
    "from warnings import filterwarnings\n",
    "filterwarnings('ignore')"
   ]
  },
  {
   "cell_type": "code",
   "execution_count": null,
   "id": "be78380c",
   "metadata": {},
   "outputs": [],
   "source": [
    "full_df=pd.DataFrame()\n",
    "path=r'G:\\DV Analytics\\Projects\\Udemy\\Youtube_project_shan_singh_Udemy\\additional_data'\n",
    "\n",
    "for file in files_csv:\n",
    "    current_df=pd.read_csv(path+'/'+file , encoding='iso-8859-1' , error_bad_lines=False)\n",
    "    \n",
    "    full_df=pd.concat([full_df , current_df] , ignore_index=True)"
   ]
  },
  {
   "cell_type": "code",
   "execution_count": null,
   "id": "38c1877d",
   "metadata": {},
   "outputs": [],
   "source": [
    "full_df.shape"
   ]
  },
  {
   "cell_type": "code",
   "execution_count": null,
   "id": "57d54556",
   "metadata": {},
   "outputs": [],
   "source": [
    "full_df[full_df.duplicated()].shape"
   ]
  },
  {
   "cell_type": "code",
   "execution_count": null,
   "id": "9dd2b2fa",
   "metadata": {},
   "outputs": [],
   "source": [
    "# Duplicates are removed from the combined DataFrame.\n",
    "full_df=full_df.drop_duplicates()\n",
    "full_df.shape"
   ]
  },
  {
   "cell_type": "code",
   "execution_count": null,
   "id": "18107f91",
   "metadata": {},
   "outputs": [],
   "source": [
    "# The processed data is exported to CSV and JSON files, and also to a SQLite database for further analysis or sharing.\n",
    "full_df.to_csv(r'G:\\DV Analytics\\Projects\\Udemy\\Youtube_project_shan_singh_Udemy\\Export Data/you_tube_data.csv',index=False)"
   ]
  },
  {
   "cell_type": "code",
   "execution_count": null,
   "id": "1fb570c2",
   "metadata": {},
   "outputs": [],
   "source": [
    "full_df[0:1000].to_csv(r'G:\\DV Analytics\\Projects\\Udemy\\Youtube_project_shan_singh_Udemy\\Export Data/you_tube_data_sample.csv',index=False)"
   ]
  },
  {
   "cell_type": "code",
   "execution_count": null,
   "id": "13ecc155",
   "metadata": {},
   "outputs": [],
   "source": [
    "full_df.to_json(r'G:\\DV Analytics\\Projects\\Udemy\\Youtube_project_shan_singh_Udemy\\Export Data/you_tube_data.json')"
   ]
  },
  {
   "cell_type": "code",
   "execution_count": null,
   "id": "755e5201",
   "metadata": {},
   "outputs": [],
   "source": [
    "full_df[0:1000].to_json(r'G:\\DV Analytics\\Projects\\Udemy\\Youtube_project_shan_singh_Udemy\\Export Data/you_tube_data_sample.json')"
   ]
  },
  {
   "cell_type": "code",
   "execution_count": null,
   "id": "9208e8ae",
   "metadata": {},
   "outputs": [],
   "source": [
    "from sqlalchemy import create_engine\n",
    "engine = create_engine(r'sqlite:///G:\\DV Analytics\\Projects\\Udemy\\Youtube_project_shan_singh_Udemy\\Export Data/you_tube_sampe.sqlite')\n"
   ]
  },
  {
   "cell_type": "code",
   "execution_count": null,
   "id": "7f33c6fb",
   "metadata": {},
   "outputs": [],
   "source": [
    "full_df[0:1000].to_sql('Users', con=engine , if_exists='append')"
   ]
  },
  {
   "cell_type": "code",
   "execution_count": null,
   "id": "91e615f5",
   "metadata": {},
   "outputs": [],
   "source": [
    "full_df['category_id'].unique()"
   ]
  },
  {
   "cell_type": "markdown",
   "id": "49045e98",
   "metadata": {},
   "source": [
    "# Which category has maximum Number of Likes"
   ]
  },
  {
   "cell_type": "code",
   "execution_count": null,
   "id": "c29fb6ef",
   "metadata": {},
   "outputs": [],
   "source": [
    "json_df=pd.read_json(r'G:\\DV Analytics\\Projects\\Udemy\\Youtube_project_shan_singh_Udemy\\additional_data/US_category_id.json')"
   ]
  },
  {
   "cell_type": "code",
   "execution_count": null,
   "id": "3cdca2f3",
   "metadata": {},
   "outputs": [],
   "source": [
    "json_df.head(10)"
   ]
  },
  {
   "cell_type": "code",
   "execution_count": null,
   "id": "33dc8559",
   "metadata": {},
   "outputs": [],
   "source": [
    "json_df['items'][0]"
   ]
  },
  {
   "cell_type": "code",
   "execution_count": null,
   "id": "c20edd00",
   "metadata": {},
   "outputs": [],
   "source": [
    "# The code maps category IDs in the DataFrame to their respective names using data from a JSON file.\n",
    "cat_dict={}\n",
    "\n",
    "for item in json_df['items'].values:\n",
    "    cat_dict[int(item['id'])]=item['snippet']['title']\n",
    "    "
   ]
  },
  {
   "cell_type": "code",
   "execution_count": null,
   "id": "304aecc5",
   "metadata": {},
   "outputs": [],
   "source": [
    "cat_dict"
   ]
  },
  {
   "cell_type": "code",
   "execution_count": null,
   "id": "0952e805",
   "metadata": {},
   "outputs": [],
   "source": [
    "full_df['category_name']=full_df['category_id'].map(cat_dict)"
   ]
  },
  {
   "cell_type": "code",
   "execution_count": null,
   "id": "fc8b6484",
   "metadata": {},
   "outputs": [],
   "source": [
    "full_df.head(4)"
   ]
  },
  {
   "cell_type": "code",
   "execution_count": null,
   "id": "61648f97",
   "metadata": {},
   "outputs": [],
   "source": [
    "# It then visualizes the distribution of likes across different video categories using a box plot.\n",
    "# Here you can see some of category has maximum likes eg. music,entertainmnet etc\n",
    "plt.figure(figsize=(12,8))\n",
    "sns.boxplot(x='category_name' , y='likes' , data=full_df)\n",
    "plt.xticks(rotation='vertical')\n",
    "plt.show()"
   ]
  },
  {
   "cell_type": "markdown",
   "id": "a5e465c3",
   "metadata": {},
   "source": [
    "# Find Whether audience is engaged or not"
   ]
  },
  {
   "cell_type": "code",
   "execution_count": null,
   "id": "024b5674",
   "metadata": {},
   "outputs": [],
   "source": [
    "# Metrics like like rate, dislike rate, and comment count rate are calculated and added to the DataFrame.\n",
    "# Box plots and regression plots are used to explore the relationship between views, likes, and dislikes.\n",
    "\n",
    "full_df['like_rate']=(full_df['likes']/full_df['views'])*100\n",
    "full_df['dislike_rate']=(full_df['dislikes']/full_df['views'])*100\n",
    "full_df['comment_count_rate']=(full_df['comment_count']/full_df['views'])*100"
   ]
  },
  {
   "cell_type": "code",
   "execution_count": null,
   "id": "97049893",
   "metadata": {},
   "outputs": [],
   "source": [
    "full_df.columns"
   ]
  },
  {
   "cell_type": "code",
   "execution_count": null,
   "id": "62cf797b",
   "metadata": {},
   "outputs": [],
   "source": [
    "plt.figure(figsize=(8,6))\n",
    "sns.boxplot(x='category_name' , y='like_rate' , data=full_df)\n",
    "plt.xticks(rotation='vertical')\n",
    "plt.show()"
   ]
  },
  {
   "cell_type": "code",
   "execution_count": null,
   "id": "723de54f",
   "metadata": {},
   "outputs": [],
   "source": [
    "# here we can say that as far as my views increases likes also increases\n",
    "# there is corelation between views and likes.\n",
    "sns.regplot(x='views' , y='likes' , data=full_df)"
   ]
  },
  {
   "cell_type": "code",
   "execution_count": null,
   "id": "e084aefd",
   "metadata": {},
   "outputs": [],
   "source": [
    "full_df.columns"
   ]
  },
  {
   "cell_type": "code",
   "execution_count": null,
   "id": "c6b22649",
   "metadata": {},
   "outputs": [],
   "source": [
    "full_df[['views', 'likes', 'dislikes']].corr()"
   ]
  },
  {
   "cell_type": "code",
   "execution_count": null,
   "id": "c828a3b4",
   "metadata": {},
   "outputs": [],
   "source": [
    "sns.heatmap(full_df[['views', 'likes', 'dislikes']].corr() , annot=True)"
   ]
  },
  {
   "cell_type": "markdown",
   "id": "26e212fb",
   "metadata": {},
   "source": [
    "# Which Channels have largest number of trending videos "
   ]
  },
  {
   "cell_type": "code",
   "execution_count": null,
   "id": "c57e634c",
   "metadata": {},
   "outputs": [],
   "source": [
    "full_df.head(6)"
   ]
  },
  {
   "cell_type": "code",
   "execution_count": null,
   "id": "a16f6b88",
   "metadata": {},
   "outputs": [],
   "source": [
    "full_df['channel_title'].value_counts()"
   ]
  },
  {
   "cell_type": "code",
   "execution_count": null,
   "id": "e4cdc573",
   "metadata": {},
   "outputs": [],
   "source": [
    "# same thing achieve using groupby\n",
    "cdf = full_df.groupby(['channel_title']).size().sort_values(ascending=False).reset_index()\n",
    "cdf"
   ]
  },
  {
   "cell_type": "code",
   "execution_count": null,
   "id": "aaa41f41",
   "metadata": {},
   "outputs": [],
   "source": [
    "cdf = cdf.rename(columns={0:'total_videos'})\n",
    "cdf"
   ]
  },
  {
   "cell_type": "code",
   "execution_count": null,
   "id": "97ba8885",
   "metadata": {},
   "outputs": [],
   "source": [
    "import plotly.express as px"
   ]
  },
  {
   "cell_type": "code",
   "execution_count": null,
   "id": "bb94be71",
   "metadata": {},
   "outputs": [],
   "source": [
    "# The code counts the number of videos from each channel and visualizes the top 20 channels with the most videos using Plotly.\n",
    "px.bar(data_frame=cdf[0:20] , x='channel_title' , y='total_videos' )"
   ]
  },
  {
   "cell_type": "markdown",
   "id": "433d6e26",
   "metadata": {},
   "source": [
    "# Does Punctuations in title and tags have any relation with views, likes, dislikes or comments"
   ]
  },
  {
   "cell_type": "code",
   "execution_count": null,
   "id": "6bd0dbbe",
   "metadata": {},
   "outputs": [],
   "source": [
    "full_df['title'][0]"
   ]
  },
  {
   "cell_type": "code",
   "execution_count": null,
   "id": "0ecc05eb",
   "metadata": {},
   "outputs": [],
   "source": [
    "import string"
   ]
  },
  {
   "cell_type": "code",
   "execution_count": null,
   "id": "e3d5dc0c",
   "metadata": {},
   "outputs": [],
   "source": [
    "string.punctuation"
   ]
  },
  {
   "cell_type": "code",
   "execution_count": null,
   "id": "4c30cf36",
   "metadata": {},
   "outputs": [],
   "source": [
    "# The code counts the number of punctuations in video titles and explores \n",
    "# whether there's any relationship between punctuation count and views, likes, or dislikes using box plots.\n",
    "def punc_count(text):\n",
    "    return len([char for char in text if char in string.punctuation])"
   ]
  },
  {
   "cell_type": "code",
   "execution_count": null,
   "id": "36c784f4",
   "metadata": {},
   "outputs": [],
   "source": [
    "sample = full_df[0:10000]"
   ]
  },
  {
   "cell_type": "code",
   "execution_count": null,
   "id": "deee829d",
   "metadata": {},
   "outputs": [],
   "source": [
    "sample['count_punc']=sample['title'].apply(punc_count)"
   ]
  },
  {
   "cell_type": "code",
   "execution_count": null,
   "id": "fc7203fa",
   "metadata": {},
   "outputs": [],
   "source": [
    "sample['count_punc']"
   ]
  },
  {
   "cell_type": "code",
   "execution_count": null,
   "id": "0cea1cb5",
   "metadata": {},
   "outputs": [],
   "source": [
    "# There are 2 , 3 punctuaation count where views are high. \n",
    "plt.figure(figsize=(8,6))\n",
    "sns.boxplot(x='count_punc' , y='views' , data=sample)\n",
    "plt.show()"
   ]
  },
  {
   "cell_type": "code",
   "execution_count": null,
   "id": "c97fd6ad",
   "metadata": {},
   "outputs": [],
   "source": [
    "# For 2,3 and 6 Punctuation count where likes are too high.\n",
    "plt.figure(figsize=(8,6))\n",
    "sns.boxplot(x='count_punc' , y='likes' , data=sample)\n",
    "plt.show()"
   ]
  },
  {
   "cell_type": "code",
   "execution_count": null,
   "id": "0d48ffe5",
   "metadata": {},
   "outputs": [],
   "source": []
  }
 ],
 "metadata": {
  "kernelspec": {
   "display_name": "Python 3 (ipykernel)",
   "language": "python",
   "name": "python3"
  },
  "language_info": {
   "codemirror_mode": {
    "name": "ipython",
    "version": 3
   },
   "file_extension": ".py",
   "mimetype": "text/x-python",
   "name": "python",
   "nbconvert_exporter": "python",
   "pygments_lexer": "ipython3",
   "version": "3.11.4"
  }
 },
 "nbformat": 4,
 "nbformat_minor": 5
}
